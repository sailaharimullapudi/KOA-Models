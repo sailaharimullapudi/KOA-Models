{
 "cells": [
  {
   "cell_type": "code",
   "execution_count": 1,
   "id": "9743cfe6",
   "metadata": {},
   "outputs": [],
   "source": [
    "from pyspark.sql import SparkSession\n",
    "from pyspark.sql import functions as F\n",
    "from pyspark.sql.types import ArrayType\n",
    "from pyspark.ml.feature import StringIndexer, VectorAssembler\n",
    "from pyspark.ml.classification import LinearSVC\n",
    "from pyspark.ml.evaluation import MulticlassClassificationEvaluator\n",
    "from skimage.transform import resize\n",
    "import matplotlib.pyplot as plt\n",
    "from pyspark.sql.functions import udf, col\n",
    "from pyspark.sql import Row\n",
    "from pyspark.sql.functions import count\n",
    "from pyspark.ml.linalg import Vectors\n",
    "\n",
    "import os\n",
    "import matplotlib.pyplot as plt\n",
    "import numpy as np\n",
    "import pandas as pd\n",
    "os.environ['TF_CPP_MIN_LOG_LEVEL'] = '2'\n",
    "import time\n",
    "import seaborn as sns\n",
    "import shutil"
   ]
  },
  {
   "cell_type": "code",
   "execution_count": 2,
   "id": "517cf553",
   "metadata": {},
   "outputs": [
    {
     "name": "stderr",
     "output_type": "stream",
     "text": [
      "24/01/20 17:10:59 WARN Utils: Your hostname, Sailaharis-MacBook-Pro-2.local resolves to a loopback address: 127.0.0.1; using 10.0.0.132 instead (on interface en0)\n",
      "24/01/20 17:10:59 WARN Utils: Set SPARK_LOCAL_IP if you need to bind to another address\n",
      "Setting default log level to \"WARN\".\n",
      "To adjust logging level use sc.setLogLevel(newLevel). For SparkR, use setLogLevel(newLevel).\n",
      "24/01/20 17:11:00 WARN NativeCodeLoader: Unable to load native-hadoop library for your platform... using builtin-java classes where applicable\n"
     ]
    }
   ],
   "source": [
    "# Initialize Spark session\n",
    "spark = SparkSession.builder.appName(\"YourAppName\").getOrCreate()\n",
    "\n",
    "train_path = \"/Users/sailaharimullapudi/Desktop/kneeKL224_test/train\"\n",
    "test_path = \"/Users/sailaharimullapudi/Desktop/kneeKL224_test/test\"\n",
    "valid_path = \"/Users/sailaharimullapudi/Desktop/kneeKL224_test/val\"\n",
    "list_of_classes = ['Healthy', 'Doubtful', 'Minimal', 'Moderate', 'Severe']"
   ]
  },
  {
   "cell_type": "code",
   "execution_count": 3,
   "id": "d03fe0a8",
   "metadata": {},
   "outputs": [],
   "source": [
    "paths = [train_path, test_path, valid_path]\n",
    "\n",
    "for path in paths:\n",
    "    filepaths = []\n",
    "    labels = []\n",
    "    classlist = [klass for klass in os.listdir(path) if not klass.startswith('.')]\n",
    "    \n",
    "    for klass in classlist:\n",
    "        intklass = int(klass)\n",
    "        label = list_of_classes[intklass]\n",
    "        classpath = os.path.join(path, klass)\n",
    "        flist = os.listdir(classpath)\n",
    "        \n",
    "        for f in flist:\n",
    "            fpath = os.path.join(classpath, f)\n",
    "            filepaths.append(fpath)\n",
    "            labels.append(label)\n",
    "    \n",
    "    rows = [Row(filepaths=filepaths[i], labels=labels[i]) for i in range(len(filepaths))]\n",
    "    spark_df = spark.createDataFrame(rows)\n",
    "    \n",
    "    if path == test_path:\n",
    "        test_df = spark_df\n",
    "    elif path == valid_path:\n",
    "        valid_df = spark_df\n",
    "    else:\n",
    "        train_df = spark_df\n"
   ]
  },
  {
   "cell_type": "code",
   "execution_count": 4,
   "id": "b8b3d8e0",
   "metadata": {},
   "outputs": [
    {
     "name": "stderr",
     "output_type": "stream",
     "text": [
      "                                                                                \r"
     ]
    },
    {
     "name": "stdout",
     "output_type": "stream",
     "text": [
      "train_df length: 2658   test_df length: 1191   valid_df length: 826\n"
     ]
    }
   ],
   "source": [
    "print('train_df length:', train_df.count(), '  test_df length:', test_df.count(), '  valid_df length:', valid_df.count())"
   ]
  },
  {
   "cell_type": "code",
   "execution_count": 5,
   "id": "768be6b8",
   "metadata": {},
   "outputs": [
    {
     "name": "stdout",
     "output_type": "stream",
     "text": [
      "The number of classes in the dataset is: 5\n",
      "            CLASS               IMAGE COUNT \n",
      "           Healthy                  584     \n",
      "           Doubtful                 513     \n",
      "            Severe                  173     \n",
      "           Moderate                 757     \n",
      "           Minimal                  631     \n"
     ]
    }
   ],
   "source": [
    "class_counts = train_df.groupBy('labels').agg(count('*').alias('image_count'))\n",
    "class_count = class_counts.count()\n",
    "print('The number of classes in the dataset is:', class_count)\n",
    "print('{0:^30s} {1:^13s}'.format('CLASS', 'IMAGE COUNT'))\n",
    "for row in class_counts.collect():\n",
    "    label = row['labels']\n",
    "    count_value = row['image_count']\n",
    "    print('{0:^30s} {1:^13s}'.format(str(label), str(count_value)))"
   ]
  },
  {
   "cell_type": "code",
   "execution_count": 6,
   "id": "69069877",
   "metadata": {},
   "outputs": [
    {
     "name": "stderr",
     "output_type": "stream",
     "text": [
      "24/01/20 17:11:12 WARN GarbageCollectionMetrics: To enable non-built-in garbage collector(s) List(G1 Concurrent GC), users should configure it(them) to spark.eventLog.gcMetrics.youngGenerationGarbageCollectors or spark.eventLog.gcMetrics.oldGenerationGarbageCollectors\n",
      "                                                                                \r"
     ]
    }
   ],
   "source": [
    "ht = 0\n",
    "wt = 0\n",
    "\n",
    "def get_image_shape(fpath):\n",
    "    img = plt.imread(fpath)\n",
    "    return img.shape\n",
    "\n",
    "get_image_shape_udf = spark.udf.register(\"get_image_shape\", get_image_shape)\n",
    "train_df_sample = train_df.sample(withReplacement=False, fraction=0.01, seed=123)\n",
    "train_df_sample = train_df_sample.withColumn(\"image_shape\", get_image_shape_udf(col(\"filepaths\")))\n",
    "\n",
    "for row in train_df_sample.collect():\n",
    "    shape = row[\"image_shape\"]\n",
    "    \n",
    "    if isinstance(shape, list):\n",
    "        ht += int(shape[0][0]) \n",
    "        wt += int(shape[0][1]) \n",
    "    elif isinstance(shape, tuple):\n",
    "        ht += int(shape[0])  \n",
    "        wt += int(shape[1])  "
   ]
  },
  {
   "cell_type": "code",
   "execution_count": 7,
   "id": "578d1705",
   "metadata": {},
   "outputs": [],
   "source": [
    "average_height = ht // 100\n",
    "average_width = wt // 100\n",
    "image_size = (average_height, average_width)"
   ]
  },
  {
   "cell_type": "code",
   "execution_count": 8,
   "id": "3ad6230f",
   "metadata": {},
   "outputs": [
    {
     "name": "stderr",
     "output_type": "stream",
     "text": [
      "24/01/20 17:11:13 WARN SparkSession: Using an existing Spark session; only runtime SQL configurations will take effect.\n"
     ]
    }
   ],
   "source": [
    "from pyspark import SparkContext\n",
    "from pyspark.sql import SparkSession\n",
    "import matplotlib.pyplot as plt\n",
    "from skimage.transform import resize\n",
    "import numpy as np\n",
    "\n",
    "# Create a Spark session\n",
    "spark = SparkSession.builder.appName(\"image_processing\").getOrCreate()\n",
    "sc = SparkContext.getOrCreate()\n",
    "\n",
    "def preprocess(filepath):\n",
    "    img = plt.imread(filepath)\n",
    "    img = resize(img, image_size, anti_aliasing=True)\n",
    "    img_flat = img.flatten()\n",
    "    return img_flat\n",
    "\n",
    "def process_images(filepaths):\n",
    "    # Parallelize the file paths\n",
    "    rdd = sc.parallelize(filepaths)\n",
    "\n",
    "    # Use map to apply the preprocess function to each file path in parallel\n",
    "    processed_images_rdd = rdd.map(preprocess)\n",
    "\n",
    "    # Collect the results into a list\n",
    "    processed_images = processed_images_rdd.collect()\n",
    "\n",
    "    return processed_images"
   ]
  },
  {
   "cell_type": "code",
   "execution_count": 9,
   "id": "b6803c3b",
   "metadata": {},
   "outputs": [],
   "source": [
    "from pyspark.sql.types import ArrayType, FloatType\n",
    "preprocess_udf = udf(preprocess, ArrayType(FloatType()))"
   ]
  },
  {
   "cell_type": "code",
   "execution_count": 10,
   "id": "6155ed04",
   "metadata": {},
   "outputs": [],
   "source": [
    "train_df = train_df.withColumn('processed_images', preprocess_udf('filepaths'))\n",
    "test_df = test_df.withColumn('processed_images', preprocess_udf('filepaths'))\n",
    "valid_df = valid_df.withColumn('processed_images', preprocess_udf('filepaths'))"
   ]
  },
  {
   "cell_type": "code",
   "execution_count": 11,
   "id": "495059b0",
   "metadata": {},
   "outputs": [
    {
     "name": "stderr",
     "output_type": "stream",
     "text": [
      "                                                                                \r"
     ]
    },
    {
     "name": "stdout",
     "output_type": "stream",
     "text": [
      "+-------+--------------+\n",
      "| labels|indexed_labels|\n",
      "+-------+--------------+\n",
      "|Healthy|           2.0|\n",
      "|Healthy|           2.0|\n",
      "|Healthy|           2.0|\n",
      "|Healthy|           2.0|\n",
      "|Healthy|           2.0|\n",
      "|Healthy|           2.0|\n",
      "|Healthy|           2.0|\n",
      "|Healthy|           2.0|\n",
      "|Healthy|           2.0|\n",
      "|Healthy|           2.0|\n",
      "|Healthy|           2.0|\n",
      "|Healthy|           2.0|\n",
      "|Healthy|           2.0|\n",
      "|Healthy|           2.0|\n",
      "|Healthy|           2.0|\n",
      "|Healthy|           2.0|\n",
      "|Healthy|           2.0|\n",
      "|Healthy|           2.0|\n",
      "|Healthy|           2.0|\n",
      "|Healthy|           2.0|\n",
      "+-------+--------------+\n",
      "only showing top 20 rows\n",
      "\n"
     ]
    }
   ],
   "source": [
    "from pyspark.ml.feature import StringIndexer\n",
    "from pyspark.sql import SparkSession\n",
    "\n",
    "label_indexer = StringIndexer(inputCol=\"labels\", outputCol=\"indexed_labels\")\n",
    "test_indexer = StringIndexer(inputCol=\"labels\", outputCol=\"indexed_labels\")\n",
    "valid_indexer = StringIndexer(inputCol=\"labels\", outputCol=\"indexed_labels\")\n",
    "\n",
    "train_spark_df = label_indexer.fit(train_df).transform(train_df)\n",
    "test_spark_df = test_indexer.fit(train_df).transform(test_df)\n",
    "valid_spark_df = valid_indexer.fit(train_df).transform(valid_df)\n",
    "\n",
    "train_spark_df.select(\"labels\", \"indexed_labels\").show()\n",
    "\n",
    "train_labels = train_spark_df.select(\"indexed_labels\")\n",
    "test_labels = test_spark_df.select(\"indexed_labels\")\n",
    "valid_labels = valid_spark_df.select(\"indexed_labels\")"
   ]
  },
  {
   "cell_type": "code",
   "execution_count": 12,
   "id": "e673b59f",
   "metadata": {},
   "outputs": [],
   "source": [
    "from pyspark.ml.linalg import Vectors, DoubleType\n",
    "from pyspark.ml.feature import VectorAssembler\n",
    "from pyspark.ml.classification import LogisticRegression\n",
    "from pyspark.ml import Pipeline\n",
    "from pyspark.ml.evaluation import MulticlassClassificationEvaluator"
   ]
  },
  {
   "cell_type": "code",
   "execution_count": 13,
   "id": "08dfe10a",
   "metadata": {},
   "outputs": [],
   "source": [
    "vector_assembler = VectorAssembler(inputCols=[\"indexed_labels\"], outputCol=\"features\")\n",
    "logistic_regression = LogisticRegression(labelCol=\"indexed_labels\", featuresCol=\"features\", \n",
    "                                         maxIter=10, regParam=0.3, elasticNetParam=0.8)\n",
    "pipeline = Pipeline(stages=[vector_assembler, logistic_regression])"
   ]
  },
  {
   "cell_type": "code",
   "execution_count": 14,
   "id": "f0818ebc",
   "metadata": {},
   "outputs": [
    {
     "name": "stderr",
     "output_type": "stream",
     "text": [
      "24/01/20 17:11:19 WARN InstanceBuilder: Failed to load implementation from:dev.ludovic.netlib.blas.JNIBLAS\n",
      "24/01/20 17:11:19 WARN InstanceBuilder: Failed to load implementation from:dev.ludovic.netlib.blas.VectorBLAS\n"
     ]
    }
   ],
   "source": [
    "model = pipeline.fit(train_spark_df)"
   ]
  },
  {
   "cell_type": "code",
   "execution_count": 15,
   "id": "8f852dda",
   "metadata": {},
   "outputs": [
    {
     "name": "stdout",
     "output_type": "stream",
     "text": [
      "Test Accuracy: 18.81%\n"
     ]
    }
   ],
   "source": [
    "predictions = model.transform(test_spark_df)\n",
    "result = MulticlassClassificationEvaluator(labelCol=\"indexed_labels\", predictionCol=\"prediction\", \n",
    "                                              metricName=\"accuracy\")\n",
    "accuracy = result.evaluate(predictions)\n",
    "print(\"Test Accuracy: {:.2%}\".format(accuracy))"
   ]
  },
  {
   "cell_type": "code",
   "execution_count": 16,
   "id": "5e34d4a0",
   "metadata": {},
   "outputs": [
    {
     "name": "stdout",
     "output_type": "stream",
     "text": [
      "\n",
      "Summary Statistics:\n",
      "Accuracy = 18.81%\n",
      "Weighted Precision = 6.28%\n",
      "Weighted Recall = 18.81%\n",
      "Weighted F1 Score = 9.41%\n",
      "+--------------+----------+-----+\n",
      "|indexed_labels|prediction|count|\n",
      "+--------------+----------+-----+\n",
      "|           0.0|       0.0|  224|\n",
      "|           1.0|       0.0|  447|\n",
      "|           2.0|       1.0|  172|\n",
      "|           3.0|       1.0|  296|\n",
      "|           4.0|       1.0|   52|\n",
      "+--------------+----------+-----+\n",
      "\n"
     ]
    }
   ],
   "source": [
    "from pyspark.ml.evaluation import MulticlassClassificationEvaluator\n",
    "\n",
    "evaluator = MulticlassClassificationEvaluator(labelCol=\"indexed_labels\", predictionCol=\"prediction\")\n",
    "\n",
    "accuracy = evaluator.evaluate(predictions, {evaluator.metricName: \"accuracy\"})\n",
    "weightedPrecision = evaluator.evaluate(predictions, {evaluator.metricName: \"weightedPrecision\"})\n",
    "weightedRecall = evaluator.evaluate(predictions, {evaluator.metricName: \"weightedRecall\"})\n",
    "weightedF1 = evaluator.evaluate(predictions, {evaluator.metricName: \"weightedFMeasure\"})\n",
    "\n",
    "print(\"\\nSummary Statistics:\")\n",
    "print(\"Accuracy = {:.2%}\".format(accuracy))\n",
    "print(\"Weighted Precision = {:.2%}\".format(weightedPrecision))\n",
    "print(\"Weighted Recall = {:.2%}\".format(weightedRecall))\n",
    "print(\"Weighted F1 Score = {:.2%}\".format(weightedF1))\n",
    "\n",
    "confusion_matrix = predictions.groupBy(\"indexed_labels\", \"prediction\").count().orderBy(\"indexed_labels\", \"prediction\")\n",
    "confusion_matrix.show()\n"
   ]
  },
  {
   "cell_type": "code",
   "execution_count": 17,
   "id": "32156a89",
   "metadata": {},
   "outputs": [
    {
     "name": "stdout",
     "output_type": "stream",
     "text": [
      "\n",
      "Summary Statistics:\n",
      "Accuracy = 18.81%\n",
      "Weighted Precision = 6.28%\n",
      "Weighted Recall = 18.81%\n",
      "Weighted F1 Score = 9.41%\n"
     ]
    },
    {
     "name": "stderr",
     "output_type": "stream",
     "text": [
      "/var/folders/9g/rbhjcmds0jqbn2p1t17vl84m0000gn/T/ipykernel_83729/1636539049.py:20: FutureWarning: In a future version of pandas all arguments of DataFrame.pivot will be keyword-only.\n",
      "  conf_matrix_heatmap = confusion_matrix_pd.pivot(\"indexed_labels\", \"prediction\", \"count\").fillna(0)\n"
     ]
    },
    {
     "data": {
      "image/png": "[encoded data removed]",
      "text/plain": [
       "<Figure size 800x800 with 2 Axes>"
      ]
     },
     "metadata": {},
     "output_type": "display_data"
    }
   ],
   "source": [
    "from pyspark.ml.evaluation import MulticlassClassificationEvaluator\n",
    "import seaborn as sns\n",
    "import matplotlib.pyplot as plt\n",
    "\n",
    "evaluator = MulticlassClassificationEvaluator(labelCol=\"indexed_labels\", predictionCol=\"prediction\")\n",
    "\n",
    "accuracy = evaluator.evaluate(predictions, {evaluator.metricName: \"accuracy\"})\n",
    "weightedPrecision = evaluator.evaluate(predictions, {evaluator.metricName: \"weightedPrecision\"})\n",
    "weightedRecall = evaluator.evaluate(predictions, {evaluator.metricName: \"weightedRecall\"})\n",
    "weightedF1 = evaluator.evaluate(predictions, {evaluator.metricName: \"weightedFMeasure\"})\n",
    "\n",
    "print(\"\\nSummary Statistics:\")\n",
    "print(\"Accuracy = {:.2%}\".format(accuracy))\n",
    "print(\"Weighted Precision = {:.2%}\".format(weightedPrecision))\n",
    "print(\"Weighted Recall = {:.2%}\".format(weightedRecall))\n",
    "print(\"Weighted F1 Score = {:.2%}\".format(weightedF1))\n",
    "\n",
    "confusion_matrix = predictions.groupBy(\"indexed_labels\", \"prediction\").count().orderBy(\"indexed_labels\", \"prediction\")\n",
    "confusion_matrix_pd = confusion_matrix.toPandas()\n",
    "conf_matrix_heatmap = confusion_matrix_pd.pivot(\"indexed_labels\", \"prediction\", \"count\").fillna(0)\n",
    "\n",
    "plt.figure(figsize=(8, 8))\n",
    "sns.heatmap(conf_matrix_heatmap, annot=True, fmt=\"g\", cmap=\"Blues\", cbar=True, square=True)\n",
    "plt.title(\"Confusion Matrix\")\n",
    "plt.xlabel(\"Predicted Label\")\n",
    "plt.ylabel(\"True Label\")\n",
    "plt.show()\n"
   ]
  },
  {
   "cell_type": "code",
   "execution_count": null,
   "id": "496800ba",
   "metadata": {},
   "outputs": [],
   "source": []
  }
 ],
 "metadata": {
  "kernelspec": {
   "display_name": "Python 3 (ipykernel)",
   "language": "python",
   "name": "python3"
  },
  "language_info": {
   "codemirror_mode": {
    "name": "ipython",
    "version": 3
   },
   "file_extension": ".py",
   "mimetype": "text/x-python",
   "name": "python",
   "nbconvert_exporter": "python",
   "pygments_lexer": "ipython3",
   "version": "3.10.9"
  }
 },
 "nbformat": 4,
 "nbformat_minor": 5
}
